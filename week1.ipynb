{
  "nbformat": 4,
  "nbformat_minor": 0,
  "metadata": {
    "colab": {
      "provenance": []
    },
    "kernelspec": {
      "name": "python3",
      "display_name": "Python 3"
    },
    "language_info": {
      "name": "python"
    }
  },
  "cells": [
    {
      "cell_type": "markdown",
      "source": [
        "1. Display Fibonacci Series upto 10 terms"
      ],
      "metadata": {
        "id": "DBrdmsTDsqNf"
      }
    },
    {
      "cell_type": "code",
      "execution_count": 10,
      "metadata": {
        "id": "6PlUstIfsPiN"
      },
      "outputs": [],
      "source": [
        "fibo = [0,1]\n",
        "def fibonacci(n):\n",
        "  for i in range (1,n-1):\n",
        "    fibo.append(fibo[-1]+fibo[-2])\n",
        "  print(fibo)"
      ]
    },
    {
      "cell_type": "code",
      "source": [
        "fibonacci(10)"
      ],
      "metadata": {
        "colab": {
          "base_uri": "https://localhost:8080/"
        },
        "id": "2uB7hM5LuAow",
        "outputId": "0e0c93f9-ba59-4533-9ea5-9c22b661296c"
      },
      "execution_count": 11,
      "outputs": [
        {
          "output_type": "stream",
          "name": "stdout",
          "text": [
            "[0, 1, 1, 2, 3, 5, 8, 13, 21, 34]\n"
          ]
        }
      ]
    },
    {
      "cell_type": "markdown",
      "source": [
        "2. Display numbers at the odd indices of a list"
      ],
      "metadata": {
        "id": "2ksf_Omyuj6T"
      }
    },
    {
      "cell_type": "code",
      "source": [
        "numbers =[3,1,6,1943,9362,871,92,251,8,0,34]\n",
        "for i in range(len(numbers)):\n",
        "  if(i%2 !=0):\n",
        "    print(numbers[i])"
      ],
      "metadata": {
        "colab": {
          "base_uri": "https://localhost:8080/"
        },
        "id": "j4Edp9iSuGKE",
        "outputId": "5c494d16-d1c3-4294-e2e1-33f1cd1cb53a"
      },
      "execution_count": 12,
      "outputs": [
        {
          "output_type": "stream",
          "name": "stdout",
          "text": [
            "1\n",
            "1943\n",
            "871\n",
            "251\n",
            "0\n"
          ]
        }
      ]
    },
    {
      "cell_type": "markdown",
      "source": [
        "3. Print a list in reverse order"
      ],
      "metadata": {
        "id": "ramEqt0BvROW"
      }
    },
    {
      "cell_type": "code",
      "source": [
        "numbers =[3,1,6,1943,9362,871,92,251,8,0,34]\n",
        "numbers.reverse()\n",
        "numbers"
      ],
      "metadata": {
        "colab": {
          "base_uri": "https://localhost:8080/"
        },
        "id": "_g9l74U9vK_8",
        "outputId": "4de71fd3-787d-4734-a193-c4465fcb0050"
      },
      "execution_count": 19,
      "outputs": [
        {
          "output_type": "execute_result",
          "data": {
            "text/plain": [
              "[34, 0, 8, 251, 92, 871, 9362, 1943, 6, 1, 3]"
            ]
          },
          "metadata": {},
          "execution_count": 19
        }
      ]
    },
    {
      "cell_type": "markdown",
      "source": [
        "4. Your task is to count the number of different words in this text\n",
        "\n",
        "\tstring = \"\"\"\n",
        "\tChatGPT has created this text to provide tips on creating interesting paragraphs.\n",
        "\tFirst, start with a clear topic sentence that introduces the main idea.\n",
        "\tThen, support the topic sentence with specific details, examples, and evidence.\n",
        "\tVary the sentence length and structure to keep the reader engaged.\n",
        "\tFinally, end with a strong concluding sentence that summarizes the main points.\n",
        "\tRemember, practice makes perfect!\n",
        "\t\"\"\""
      ],
      "metadata": {
        "id": "8ZwATCNywIKQ"
      }
    },
    {
      "cell_type": "code",
      "source": [
        "string = \"ChatGPT has created this text to provide tips on creating interesting paragraphs. First, start with a clear topic sentence that introduces the main idea. Then, support the topic sentence with specific details, examples, and evidence.Vary the sentence length and structure to keep the reader engaged. Finally, end with a strong concluding sentence that summarizes the main points.Remember, practice makes perfect!\""
      ],
      "metadata": {
        "id": "_QJutCpbwK2_"
      },
      "execution_count": 25,
      "outputs": []
    },
    {
      "cell_type": "code",
      "source": [
        "words=string.split(\" \")\n",
        "len(words)"
      ],
      "metadata": {
        "colab": {
          "base_uri": "https://localhost:8080/"
        },
        "id": "m7UZC2uVwNOl",
        "outputId": "5d1994ee-d757-427e-a3a1-a7a3f96dcfaf"
      },
      "execution_count": 26,
      "outputs": [
        {
          "output_type": "execute_result",
          "data": {
            "text/plain": [
              "60"
            ]
          },
          "metadata": {},
          "execution_count": 26
        }
      ]
    },
    {
      "cell_type": "markdown",
      "source": [
        "5. Write a function that takes a word as an argument and returns the number of vowels in the word"
      ],
      "metadata": {
        "id": "r-iRdPWew3vs"
      }
    },
    {
      "cell_type": "code",
      "source": [
        "word = \"pneumonoultramicroscopicsilicovolcanoconiosis\"\n",
        "count =0\n",
        "for i in word:\n",
        "  if i == 'a' or i=='e' or i=='i' or i=='u' or i=='o':\n",
        "    count=count +1\n",
        "count"
      ],
      "metadata": {
        "colab": {
          "base_uri": "https://localhost:8080/"
        },
        "id": "3eF_7bf2whQk",
        "outputId": "e7132e68-ab95-4bfc-aab6-93324dccc62d"
      },
      "execution_count": 32,
      "outputs": [
        {
          "output_type": "execute_result",
          "data": {
            "text/plain": [
              "20"
            ]
          },
          "metadata": {},
          "execution_count": 32
        }
      ]
    },
    {
      "cell_type": "markdown",
      "source": [
        "6. Iterate through the following list of animals and print each one in all caps.  \n",
        "`animals=['tiger', 'elephant', 'monkey', 'zebra', 'panther']`\n"
      ],
      "metadata": {
        "id": "aZ8a-iLWx4d5"
      }
    },
    {
      "cell_type": "code",
      "source": [
        "animals= ['tiger', 'elephant', 'monkey', 'zebra', 'panther']\n",
        "for s in animals:\n",
        "  print(s.upper())"
      ],
      "metadata": {
        "colab": {
          "base_uri": "https://localhost:8080/"
        },
        "id": "K5AdY-uJxTXT",
        "outputId": "860387e0-a7a0-49f1-a15e-a8b2b50a86d5"
      },
      "execution_count": 33,
      "outputs": [
        {
          "output_type": "stream",
          "name": "stdout",
          "text": [
            "TIGER\n",
            "ELEPHANT\n",
            "MONKEY\n",
            "ZEBRA\n",
            "PANTHER\n"
          ]
        }
      ]
    },
    {
      "cell_type": "markdown",
      "source": [
        "7. Iterate from 1 to 15, printing whether the number is odd or even"
      ],
      "metadata": {
        "id": "HiVAKtvUAi4Q"
      }
    },
    {
      "cell_type": "code",
      "source": [
        "for i in range(1,16):\n",
        "  if(i%2==0):\n",
        "    print(i,\": even\")\n",
        "  else:\n",
        "    print(i,\": odd\")"
      ],
      "metadata": {
        "colab": {
          "base_uri": "https://localhost:8080/"
        },
        "id": "LwGWccXvAYX6",
        "outputId": "92e92d04-5ebb-43af-eb3b-19d4baa2d38f"
      },
      "execution_count": 40,
      "outputs": [
        {
          "output_type": "stream",
          "name": "stdout",
          "text": [
            "1 : odd\n",
            "2 : even\n",
            "3 : odd\n",
            "4 : even\n",
            "5 : odd\n",
            "6 : even\n",
            "7 : odd\n",
            "8 : even\n",
            "9 : odd\n",
            "10 : even\n",
            "11 : odd\n",
            "12 : even\n",
            "13 : odd\n",
            "14 : even\n",
            "15 : odd\n"
          ]
        }
      ]
    },
    {
      "cell_type": "markdown",
      "source": [
        "8. Take two integers as input from user and return the sum"
      ],
      "metadata": {
        "id": "HxZM6oGkBG9u"
      }
    },
    {
      "cell_type": "code",
      "source": [
        "i,j=input(\" Type two numbers \").split(\",\")\n",
        "i=int(i)\n",
        "j=int(j)\n",
        "print(i+j)"
      ],
      "metadata": {
        "colab": {
          "base_uri": "https://localhost:8080/"
        },
        "id": "N9z3BJbfA0BS",
        "outputId": "d775a852-e0bf-4cdc-8996-eec385970b16"
      },
      "execution_count": 49,
      "outputs": [
        {
          "output_type": "stream",
          "name": "stdout",
          "text": [
            " Type two numbers 2,6\n",
            "8\n"
          ]
        }
      ]
    },
    {
      "cell_type": "code",
      "source": [],
      "metadata": {
        "id": "tupR43w8BWn4"
      },
      "execution_count": null,
      "outputs": []
    }
  ]
}